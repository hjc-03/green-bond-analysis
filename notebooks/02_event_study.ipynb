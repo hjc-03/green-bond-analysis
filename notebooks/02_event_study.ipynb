{
 "cells": [
  {
   "cell_type": "markdown",
   "id": "eb4913db-d573-45e7-8fae-ef56da5e5c72",
   "metadata": {},
   "source": [
    "# Green Bond Announcement Event Study"
   ]
  },
  {
   "cell_type": "markdown",
   "id": "d9cb79f1-396a-4638-bf17-8445199392b1",
   "metadata": {},
   "source": [
    "## 1. Introduction\n",
    "\n",
    "In recent years, green bonds have emerged as a key financial instrument for promoting environmentally sustainable projects. Issued by both private corporations and public institutions, these bonds are often seen as a signal of a firm’s commitment to sustainability and responsible investing. As green bonds increasingly become a significant part of today's finance landscape, it is all the more important to investigate how markets respond to their issuance.\n",
    "\n",
    "**Research Question:**\n",
    "Do green bond announcements influence the stock price of the issuing firm?\n",
    "\n",
    "More specifically, we aim to determine whether the announcement of a green bond issuance leads to **abnormal stock returns**—either positive (due to perceived ESG alignment or investor enthusiasm) or negative (due to debt issuance concerns).\n",
    "\n",
    "\n",
    "This analysis uses **event study methodology**, a common approach in finance to assess how markets react to specific corporate events. We use daily stock price data from **Yahoo Finance** and compare returns around the announcement window ([-10, +10] trading days).\n",
    "\n",
    "\n",
    "The project is part of a broader investigation into climate finance and aims to showcase how data analysis and financial theory intersect in practice."
   ]
  },
  {
   "cell_type": "code",
   "execution_count": null,
   "id": "adcc42af-0fa1-4076-b39d-e65bdfb8b71f",
   "metadata": {},
   "outputs": [],
   "source": []
  },
  {
   "cell_type": "markdown",
   "id": "b4b88d4b-9b08-42e2-b6ea-7f53f4eff8f1",
   "metadata": {},
   "source": [
    "## 2. Dataset Overview\n",
    "- List tickers and announcement dates"
   ]
  },
  {
   "cell_type": "code",
   "execution_count": null,
   "id": "7e2836ea-18d6-4007-8d65-95497925c55f",
   "metadata": {},
   "outputs": [],
   "source": []
  },
  {
   "cell_type": "markdown",
   "id": "5cc4b442-4845-40d9-8069-d498d546f8eb",
   "metadata": {},
   "source": [
    "## 3. Data Collection\n",
    "- Use yfinance to pull stock + market index (^GSPC) prices"
   ]
  },
  {
   "cell_type": "code",
   "execution_count": null,
   "id": "f3701f50-8b54-49a4-9d90-73b58fca00c3",
   "metadata": {},
   "outputs": [],
   "source": []
  },
  {
   "cell_type": "markdown",
   "id": "a8ad9d44-066f-4c60-8f2f-c458fa8ec59f",
   "metadata": {},
   "source": [
    "## 4. Calculate Returns\n",
    "- Daily % returns for stock and market"
   ]
  },
  {
   "cell_type": "code",
   "execution_count": null,
   "id": "ff66f9d4-7dcc-426b-a59e-8d12f6e669fe",
   "metadata": {},
   "outputs": [],
   "source": []
  },
  {
   "cell_type": "markdown",
   "id": "00ac05c5-47f4-44d3-945c-f0d83c2261c0",
   "metadata": {},
   "source": [
    "## 5. Estimate Expected Return\n",
    "- Regression: stock return ~ market return (CAPM)"
   ]
  },
  {
   "cell_type": "code",
   "execution_count": null,
   "id": "fd84dbf4-ebaf-4c8f-88b3-51db92b1100b",
   "metadata": {},
   "outputs": [],
   "source": []
  },
  {
   "cell_type": "markdown",
   "id": "10a8be82-78aa-430e-bddd-380c6534605c",
   "metadata": {},
   "source": [
    "## 6. Abnormal and Cumulative Abnormal Return\n",
    "- AR = actual - expected\n",
    "- CAR = cumulative sum"
   ]
  },
  {
   "cell_type": "code",
   "execution_count": null,
   "id": "5262ae03-54ea-402d-8a25-5fdb8507ff3b",
   "metadata": {},
   "outputs": [],
   "source": []
  },
  {
   "cell_type": "markdown",
   "id": "c2560005-1a67-47ec-a7f3-ac4ecb06d4f8",
   "metadata": {},
   "source": [
    "## 7. Visualizations\n",
    "- Plot CAR before and after event ([-10, +10] days)"
   ]
  },
  {
   "cell_type": "code",
   "execution_count": null,
   "id": "a0abc96f-3fe3-4aa3-b21f-948d0bc564d7",
   "metadata": {},
   "outputs": [],
   "source": []
  },
  {
   "cell_type": "markdown",
   "id": "b8c232bc-6087-464c-b7f8-847e5f592c5b",
   "metadata": {},
   "source": [
    "## 8. Conclusions\n",
    "- Discuss patterns across companies"
   ]
  },
  {
   "cell_type": "code",
   "execution_count": null,
   "id": "02e55631-f7a1-46dd-b64b-a5233cc8ee7f",
   "metadata": {},
   "outputs": [],
   "source": []
  }
 ],
 "metadata": {
  "kernelspec": {
   "display_name": "Python [conda env:base] *",
   "language": "python",
   "name": "conda-base-py"
  },
  "language_info": {
   "codemirror_mode": {
    "name": "ipython",
    "version": 3
   },
   "file_extension": ".py",
   "mimetype": "text/x-python",
   "name": "python",
   "nbconvert_exporter": "python",
   "pygments_lexer": "ipython3",
   "version": "3.12.7"
  }
 },
 "nbformat": 4,
 "nbformat_minor": 5
}
